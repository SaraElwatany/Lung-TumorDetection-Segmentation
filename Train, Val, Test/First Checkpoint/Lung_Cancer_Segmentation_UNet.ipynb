{
  "cells": [
    {
      "cell_type": "code",
      "execution_count": 27,
      "metadata": {
        "colab": {
          "base_uri": "https://localhost:8080/",
          "height": 70
        },
        "id": "9eLzdWt0Om_q",
        "outputId": "8a80e4ec-0afd-4c11-d620-2dde9575ccdd"
      },
      "outputs": [
        {
          "output_type": "execute_result",
          "data": {
            "text/plain": [
              "'\\nUNet paper link:\\nhttps://arxiv.org/pdf/1505.04597.pdf\\nThis is a newer version implementation of the UNet paper for high resolution\\nimage segmentation.\\n\\nBasically the main difference is that in the original\\npaper, the authors had not zero padded while carrying out convolution\\noperations. But, in this implementation we are zero padding the double\\nconvolution operations.\\n\\nSo, what is the benefit of this? We will get the same size output as the\\ninput and can drop the cropping part totally.\\n'"
            ],
            "application/vnd.google.colaboratory.intrinsic+json": {
              "type": "string"
            }
          },
          "metadata": {},
          "execution_count": 27
        }
      ],
      "source": [
        "\"\"\"\n",
        "UNet paper link:\n",
        "https://arxiv.org/pdf/1505.04597.pdf\n",
        "This is a newer version implementation of the UNet paper for high resolution\n",
        "image segmentation.\n",
        "\n",
        "Basically the main difference is that in the original\n",
        "paper, the authors had not zero padded while carrying out convolution\n",
        "operations. But, in this implementation we are zero padding the double\n",
        "convolution operations.\n",
        "\n",
        "So, what is the benefit of this? We will get the same size output as the\n",
        "input and can drop the cropping part totally.\n",
        "\"\"\""
      ]
    },
    {
      "cell_type": "code",
      "execution_count": 28,
      "metadata": {
        "id": "f1h22hs0Oic7"
      },
      "outputs": [],
      "source": [
        "import os\n",
        "import torch\n",
        "import torch.nn as nn\n",
        "from PIL import Image\n",
        "from google.colab import drive\n",
        "import matplotlib.pyplot as plt\n",
        "import torchvision.transforms as T\n",
        "from sklearn.model_selection import train_test_split\n",
        "from torch.utils.data import Dataset, DataLoader, random_split"
      ]
    },
    {
      "cell_type": "code",
      "execution_count": 29,
      "metadata": {
        "colab": {
          "base_uri": "https://localhost:8080/"
        },
        "id": "kjhIHHVlXyCR",
        "outputId": "1aa5e6c6-5cf0-44eb-9e55-a37d079269af"
      },
      "outputs": [
        {
          "output_type": "stream",
          "name": "stdout",
          "text": [
            "Drive already mounted at /content/drive; to attempt to forcibly remount, call drive.mount(\"/content/drive\", force_remount=True).\n"
          ]
        }
      ],
      "source": [
        "drive.mount('/content/drive')"
      ]
    },
    {
      "cell_type": "code",
      "execution_count": 30,
      "metadata": {
        "id": "i_zlPVxYX5Wf"
      },
      "outputs": [],
      "source": [
        "device = 'cuda' if torch.cuda.is_available() else 'cpu'"
      ]
    },
    {
      "cell_type": "markdown",
      "metadata": {
        "id": "sdWWrZNadOiV"
      },
      "source": [
        "## **DataLoading & Splitting**"
      ]
    },
    {
      "cell_type": "code",
      "execution_count": 31,
      "metadata": {
        "id": "E4-J0tPoYTEZ"
      },
      "outputs": [],
      "source": [
        "dataset_path = '/content/drive/MyDrive/LungTumorDetectionAndSegmentation'"
      ]
    },
    {
      "cell_type": "code",
      "execution_count": 32,
      "metadata": {
        "id": "5VJ0sUlQY9hh"
      },
      "outputs": [],
      "source": [
        "class LungTumorSegmentationDataset(Dataset):\n",
        "\n",
        "    def __init__(self, root_path, transform=None, mask_transform=None):\n",
        "\n",
        "        self.images = []\n",
        "        for subject in os.listdir(os.path.join(root_path, 'images')):\n",
        "            subject_path = os.path.join(root_path, 'images', subject)\n",
        "            for image_file in os.listdir(subject_path):\n",
        "                self.images.append(os.path.join(subject_path, image_file))\n",
        "\n",
        "        self.masks = [img_path.replace('images', 'masks') for img_path in self.images]\n",
        "        self.transform = transform\n",
        "        self.mask_transform = mask_transform\n",
        "\n",
        "\n",
        "    def __len__(self):\n",
        "        return len(self.images)\n",
        "\n",
        "\n",
        "    def __getitem__(self, idx):\n",
        "\n",
        "        image_path = self.images[idx]\n",
        "        mask_path = self.masks[idx]\n",
        "\n",
        "        image = Image.open(image_path).convert(\"L\")  # grayscale image\n",
        "        mask = Image.open(mask_path).convert(\"L\")    # mask as single-channel\n",
        "\n",
        "        if self.transform:\n",
        "            image = self.transform(image)\n",
        "        if self.mask_transform:\n",
        "            mask = self.mask_transform(mask)\n",
        "            mask = (mask > 0.5).float()  # Ensure binary values\n",
        "\n",
        "        return image_path, image, mask"
      ]
    },
    {
      "cell_type": "code",
      "execution_count": 33,
      "metadata": {
        "id": "IgDRAQseciyk"
      },
      "outputs": [],
      "source": [
        "image_transform = T.Compose([\n",
        "                              T.Resize((256, 256)),\n",
        "                              T.ToTensor(),\n",
        "                           ])"
      ]
    },
    {
      "cell_type": "code",
      "execution_count": 34,
      "metadata": {
        "id": "PAfvUkWEcEoE"
      },
      "outputs": [],
      "source": [
        "train_dataset = LungTumorSegmentationDataset(os.path.join(dataset_path, 'train'), image_transform, image_transform)\n",
        "val_dataset = LungTumorSegmentationDataset(os.path.join(dataset_path, 'val'), image_transform, image_transform)"
      ]
    },
    {
      "cell_type": "code",
      "execution_count": 35,
      "metadata": {
        "colab": {
          "base_uri": "https://localhost:8080/"
        },
        "id": "IHQLI57Hc0ob",
        "outputId": "5343b199-3ead-4460-90d8-67a70833ae51"
      },
      "outputs": [
        {
          "output_type": "stream",
          "name": "stdout",
          "text": [
            "Length of the training data: 1832\n",
            "Length of the validation data: 98\n"
          ]
        }
      ],
      "source": [
        "print('Length of the training data:', len(train_dataset))\n",
        "print('Length of the validation data:', len(val_dataset))"
      ]
    },
    {
      "cell_type": "code",
      "execution_count": 36,
      "metadata": {
        "id": "GnAUAurmfA9W"
      },
      "outputs": [],
      "source": [
        "generator = torch.Generator().manual_seed(42)  # Fixed number for reproducibility\n",
        "train_dataset, test_dataset = random_split(train_dataset, [1500, 332], generator=generator)"
      ]
    },
    {
      "cell_type": "code",
      "execution_count": 37,
      "metadata": {
        "colab": {
          "base_uri": "https://localhost:8080/"
        },
        "id": "AGvSiUXwfOc4",
        "outputId": "31afe993-0d41-46c9-a2c8-d1f26e353a36"
      },
      "outputs": [
        {
          "output_type": "stream",
          "name": "stdout",
          "text": [
            "Length of the training data: 1500\n",
            "Length of the test data: 332\n",
            "Length of the validation data: 98\n"
          ]
        }
      ],
      "source": [
        "print('Length of the training data:', len(train_dataset))\n",
        "print('Length of the test data:', len(test_dataset))\n",
        "print('Length of the validation data:', len(val_dataset))"
      ]
    },
    {
      "cell_type": "code",
      "execution_count": 38,
      "metadata": {
        "id": "qXdijYusfbTM"
      },
      "outputs": [],
      "source": [
        "train_dataloader = DataLoader(train_dataset, batch_size=32, shuffle=False)\n",
        "test_dataloader = DataLoader(test_dataset, batch_size=32, shuffle=False)\n",
        "val_dataloader = DataLoader(val_dataset, batch_size=32, shuffle=False)"
      ]
    },
    {
      "cell_type": "code",
      "execution_count": 39,
      "metadata": {
        "colab": {
          "base_uri": "https://localhost:8080/"
        },
        "id": "zYKKvIwIf7Bq",
        "outputId": "c4dae05f-a3ab-4bc0-b5f2-6743252e2b3d"
      },
      "outputs": [
        {
          "output_type": "stream",
          "name": "stdout",
          "text": [
            "Shape of the first training sample & corresponding mask: torch.Size([1, 256, 256]) torch.Size([1, 256, 256])\n",
            "Shape of the first test sample & corresponding mask: torch.Size([1, 256, 256]) torch.Size([1, 256, 256])\n",
            "Shape of the first validation sample & corresponding mask: torch.Size([1, 256, 256]) torch.Size([1, 256, 256])\n"
          ]
        }
      ],
      "source": [
        "train_batches = iter(train_dataloader)\n",
        "test_batches = iter(test_dataloader)\n",
        "val_batches = iter(val_dataloader)\n",
        "\n",
        "for train_sample, test_sample, val_sample in zip(train_batches, test_batches, val_batches):\n",
        "    print('Shape of the first training sample & corresponding mask:', train_sample[1][0].shape, train_sample[2][0].shape)\n",
        "    print('Shape of the first test sample & corresponding mask:', test_sample[1][0].shape, test_sample[2][0].shape)\n",
        "    print('Shape of the first validation sample & corresponding mask:', val_sample[1][0].shape, val_sample[2][0].shape)\n",
        "    break"
      ]
    },
    {
      "cell_type": "markdown",
      "metadata": {
        "id": "iXyOnMgFdTlF"
      },
      "source": [
        "## **UNet Architecture**"
      ]
    },
    {
      "cell_type": "code",
      "execution_count": 40,
      "metadata": {
        "id": "QaGpeaiMOgy6"
      },
      "outputs": [],
      "source": [
        "def double_convolution(in_channels, out_channels):\n",
        "    \"\"\"\n",
        "    In the original paper implementation, the convolution operations were\n",
        "    not padded but we are padding them here. This is because, we need the\n",
        "    output result size to be same as input size.\n",
        "    \"\"\"\n",
        "    conv_op = nn.Sequential(\n",
        "                            nn.Conv2d(in_channels, out_channels, kernel_size=3, padding=1),\n",
        "                            nn.ReLU(inplace=True),\n",
        "\n",
        "                            nn.Conv2d(out_channels, out_channels, kernel_size=3, padding=1),\n",
        "                            nn.ReLU(inplace=True)\n",
        "                           )\n",
        "    return conv_op"
      ]
    },
    {
      "cell_type": "code",
      "execution_count": 41,
      "metadata": {
        "id": "p2zajPGeOEMu"
      },
      "outputs": [],
      "source": [
        "class UNet(nn.Module):\n",
        "\n",
        "\n",
        "    def __init__(self, num_classes):\n",
        "\n",
        "        super(UNet, self).__init__()\n",
        "\n",
        "        self.max_pool2d = nn.MaxPool2d(kernel_size=2, stride=2)\n",
        "\n",
        "        # Contracting path.\n",
        "\n",
        "        # Each convolution is applied twice.\n",
        "        self.down_convolution_1 = double_convolution(1, 64)\n",
        "        self.down_convolution_2 = double_convolution(64, 128)\n",
        "        self.down_convolution_3 = double_convolution(128, 256)\n",
        "        self.down_convolution_4 = double_convolution(256, 512)\n",
        "        self.down_convolution_5 = double_convolution(512, 1024)\n",
        "\n",
        "\n",
        "        # Expanding path.\n",
        "        self.up_transpose_1 = nn.ConvTranspose2d(\n",
        "                                                in_channels=1024, out_channels=512,\n",
        "                                                kernel_size=2,\n",
        "                                                stride=2)\n",
        "\n",
        "        # Below, `in_channels` again becomes 1024 as we are concatinating.\n",
        "        self.up_convolution_1 = double_convolution(1024, 512)\n",
        "\n",
        "        self.up_transpose_2 = nn.ConvTranspose2d(\n",
        "                                                  in_channels=512, out_channels=256,\n",
        "                                                  kernel_size=2,\n",
        "                                                  stride=2)\n",
        "\n",
        "        self.up_convolution_2 = double_convolution(512, 256)\n",
        "\n",
        "        self.up_transpose_3 = nn.ConvTranspose2d(\n",
        "                                                  in_channels=256, out_channels=128,\n",
        "                                                  kernel_size=2,\n",
        "                                                  stride=2)\n",
        "\n",
        "        self.up_convolution_3 = double_convolution(256, 128)\n",
        "\n",
        "        self.up_transpose_4 = nn.ConvTranspose2d(\n",
        "                                                  in_channels=128, out_channels=64,\n",
        "                                                  kernel_size=2,\n",
        "                                                  stride=2)\n",
        "\n",
        "        self.up_convolution_4 = double_convolution(128, 64)\n",
        "\n",
        "        # output => `out_channels` as per the number of classes.\n",
        "        self.out = nn.Conv2d(\n",
        "                              in_channels=64, out_channels=num_classes,\n",
        "                              kernel_size=1\n",
        "                            )\n",
        "\n",
        "\n",
        "\n",
        "    def forward(self, x):\n",
        "\n",
        "        down_1 = self.down_convolution_1(x)\n",
        "        down_2 = self.max_pool2d(down_1)\n",
        "        down_3 = self.down_convolution_2(down_2)\n",
        "        down_4 = self.max_pool2d(down_3)\n",
        "        down_5 = self.down_convolution_3(down_4)\n",
        "        down_6 = self.max_pool2d(down_5)\n",
        "        down_7 = self.down_convolution_4(down_6)\n",
        "        down_8 = self.max_pool2d(down_7)\n",
        "        down_9 = self.down_convolution_5(down_8)\n",
        "\n",
        "        # *** DO NOT APPLY MAX POOL TO down_9 ***\n",
        "\n",
        "        up_1 = self.up_transpose_1(down_9)\n",
        "        x = self.up_convolution_1(torch.cat([down_7, up_1], 1))\n",
        "\n",
        "        up_2 = self.up_transpose_2(x)\n",
        "        x = self.up_convolution_2(torch.cat([down_5, up_2], 1))\n",
        "\n",
        "        up_3 = self.up_transpose_3(x)\n",
        "        x = self.up_convolution_3(torch.cat([down_3, up_3], 1))\n",
        "\n",
        "        up_4 = self.up_transpose_4(x)\n",
        "        x = self.up_convolution_4(torch.cat([down_1, up_4], 1))\n",
        "\n",
        "        out = self.out(x)\n",
        "\n",
        "        return out"
      ]
    },
    {
      "cell_type": "code",
      "execution_count": 42,
      "metadata": {
        "id": "0XAazOONOL6v",
        "colab": {
          "base_uri": "https://localhost:8080/"
        },
        "outputId": "0fb89484-1a4e-4387-9bf9-76c345c68b89"
      },
      "outputs": [
        {
          "output_type": "stream",
          "name": "stdout",
          "text": [
            "31,031,178 total parameters.\n",
            "31,031,178 training parameters.\n",
            "torch.Size([1, 10, 512, 512])\n"
          ]
        }
      ],
      "source": [
        "input_image = torch.rand((1, 1, 512, 512))\n",
        "model = UNet(num_classes=10)\n",
        "\n",
        "# Total parameters and trainable parameters.\n",
        "total_params = sum(p.numel() for p in model.parameters())\n",
        "print(f\"{total_params:,} total parameters.\")\n",
        "\n",
        "total_trainable_params = sum(p.numel() for p in model.parameters() if p.requires_grad)\n",
        "print(f\"{total_trainable_params:,} training parameters.\")\n",
        "\n",
        "outputs = model(input_image)\n",
        "print(outputs.shape)"
      ]
    },
    {
      "cell_type": "markdown",
      "metadata": {
        "id": "Y31QWKGYiEXo"
      },
      "source": [
        "## **Training & Evaluation Functions**"
      ]
    },
    {
      "cell_type": "code",
      "execution_count": 43,
      "metadata": {
        "id": "W5dqxPkkXEeQ"
      },
      "outputs": [],
      "source": [
        "def train_model(train_loader, val_loader, model, criterion, lr, n_epochs, device):\n",
        "\n",
        "    optimizer = torch.optim.Adam(model.parameters(), lr=lr)  # Fixed optimizer to use torch.optim.Adam\n",
        "    model.train()\n",
        "\n",
        "    epoch_train_losses = []\n",
        "    epoch_val_losses = []\n",
        "\n",
        "    for epoch in range(n_epochs):\n",
        "\n",
        "        print(f'Epoch [{epoch+1}/{n_epochs}] Started')\n",
        "\n",
        "        epoch_train_loss = 0.0\n",
        "        epoch_val_loss = 0.0\n",
        "\n",
        "        # Training loop\n",
        "        for images_path, images, masks in train_loader:\n",
        "\n",
        "            images, masks = images.to(device), masks.to(device)\n",
        "\n",
        "            optimizer.zero_grad()  # Zero the gradients before the backward pass\n",
        "\n",
        "            output = model(images)\n",
        "\n",
        "            loss = criterion(output, masks)\n",
        "            epoch_train_loss += loss.item()\n",
        "\n",
        "            loss.backward()  # Backpropagation\n",
        "            optimizer.step()  # Update the model parameters\n",
        "\n",
        "        epoch_train_loss /= len(train_loader)  # Average training loss\n",
        "        epoch_train_losses.append(epoch_train_loss)\n",
        "\n",
        "        # Validation loop\n",
        "        model.eval()\n",
        "        with torch.no_grad():  # No gradient calculation for validation\n",
        "\n",
        "            for images_path, images, masks in val_loader:\n",
        "\n",
        "                images, masks = images.to(device), masks.to(device)\n",
        "\n",
        "                output = model(images)\n",
        "\n",
        "                loss = criterion(output, masks)\n",
        "                epoch_val_loss += loss.item()\n",
        "\n",
        "        epoch_val_loss /= len(val_loader)  # Average validation loss\n",
        "        epoch_val_losses.append(epoch_val_loss)\n",
        "\n",
        "        print(f'Epoch [{epoch+1}/{n_epochs}] Finished, Train Loss: {epoch_train_loss:.4f}, Val Loss: {epoch_val_loss:.4f}\\n\\n')\n",
        "\n",
        "\n",
        "    return epoch_train_losses, epoch_val_losses"
      ]
    },
    {
      "cell_type": "code",
      "execution_count": 44,
      "metadata": {
        "id": "fu4L1eT1kQ-2"
      },
      "outputs": [],
      "source": [
        "def evaluate_model(test_loader, model, criterion, device):\n",
        "\n",
        "    model.eval()\n",
        "    test_loss = 0.0  # Initialize the test loss\n",
        "\n",
        "    with torch.no_grad():  # Disable gradient computation\n",
        "        for images_path, images, masks in test_loader:\n",
        "            images, masks = images.to(device), masks.to(device)\n",
        "\n",
        "            output = model(images)\n",
        "            loss = criterion(output, masks)\n",
        "\n",
        "            test_loss += loss.item()\n",
        "\n",
        "    test_loss /= len(test_loader)  # Average over all batches\n",
        "    print(f'Test Loss: {test_loss:.4f}')\n",
        "\n",
        "    return test_loss"
      ]
    },
    {
      "cell_type": "markdown",
      "metadata": {
        "id": "HWXkRMngpLaH"
      },
      "source": [
        "## **Train & Evaluate the model**"
      ]
    },
    {
      "cell_type": "code",
      "execution_count": 45,
      "metadata": {
        "id": "QgDb6CdCqjcF"
      },
      "outputs": [],
      "source": [
        "model = UNet(num_classes=1).to(device)"
      ]
    },
    {
      "cell_type": "code",
      "source": [
        "# model.load_state_dict(torch.load(f\"/content/drive/MyDrive/unet_lung_segmentation_0.021945766765962948.pth\", map_location=device))\n",
        "# model.to(device)"
      ],
      "metadata": {
        "id": "YDrSz3HX7Euj"
      },
      "execution_count": 46,
      "outputs": []
    },
    {
      "cell_type": "code",
      "execution_count": 47,
      "metadata": {
        "id": "izisRmqypeG2"
      },
      "outputs": [],
      "source": [
        "criterion = nn.BCEWithLogitsLoss()"
      ]
    },
    {
      "cell_type": "code",
      "execution_count": 48,
      "metadata": {
        "id": "hCs4KlrJkuVp",
        "colab": {
          "base_uri": "https://localhost:8080/"
        },
        "outputId": "87ffb3fc-2a7f-4baf-a72f-b87c7fa7fda6"
      },
      "outputs": [
        {
          "output_type": "stream",
          "name": "stdout",
          "text": [
            "Epoch [1/70] Started\n",
            "Epoch [1/70] Finished, Train Loss: 0.0990, Val Loss: 0.0124\n",
            "\n",
            "\n",
            "Epoch [2/70] Started\n",
            "Epoch [2/70] Finished, Train Loss: 0.0278, Val Loss: 0.0118\n",
            "\n",
            "\n",
            "Epoch [3/70] Started\n",
            "Epoch [3/70] Finished, Train Loss: 0.0333, Val Loss: 0.0162\n",
            "\n",
            "\n",
            "Epoch [4/70] Started\n",
            "Epoch [4/70] Finished, Train Loss: 0.0346, Val Loss: 0.0120\n",
            "\n",
            "\n",
            "Epoch [5/70] Started\n",
            "Epoch [5/70] Finished, Train Loss: 0.0349, Val Loss: 0.0154\n",
            "\n",
            "\n",
            "Epoch [6/70] Started\n",
            "Epoch [6/70] Finished, Train Loss: 0.0276, Val Loss: 0.0112\n",
            "\n",
            "\n",
            "Epoch [7/70] Started\n",
            "Epoch [7/70] Finished, Train Loss: 0.0272, Val Loss: 0.0116\n",
            "\n",
            "\n",
            "Epoch [8/70] Started\n",
            "Epoch [8/70] Finished, Train Loss: 0.0265, Val Loss: 0.0114\n",
            "\n",
            "\n",
            "Epoch [9/70] Started\n",
            "Epoch [9/70] Finished, Train Loss: 0.0264, Val Loss: 0.0104\n",
            "\n",
            "\n",
            "Epoch [10/70] Started\n",
            "Epoch [10/70] Finished, Train Loss: 0.0262, Val Loss: 0.0108\n",
            "\n",
            "\n",
            "Epoch [11/70] Started\n",
            "Epoch [11/70] Finished, Train Loss: 0.0257, Val Loss: 0.0114\n",
            "\n",
            "\n",
            "Epoch [12/70] Started\n",
            "Epoch [12/70] Finished, Train Loss: 0.0388, Val Loss: 0.0116\n",
            "\n",
            "\n",
            "Epoch [13/70] Started\n",
            "Epoch [13/70] Finished, Train Loss: 0.0272, Val Loss: 0.0106\n",
            "\n",
            "\n",
            "Epoch [14/70] Started\n",
            "Epoch [14/70] Finished, Train Loss: 0.0267, Val Loss: 0.0101\n",
            "\n",
            "\n",
            "Epoch [15/70] Started\n",
            "Epoch [15/70] Finished, Train Loss: 0.0272, Val Loss: 0.0110\n",
            "\n",
            "\n",
            "Epoch [16/70] Started\n",
            "Epoch [16/70] Finished, Train Loss: 0.0266, Val Loss: 0.0108\n",
            "\n",
            "\n",
            "Epoch [17/70] Started\n",
            "Epoch [17/70] Finished, Train Loss: 0.0267, Val Loss: 0.0115\n",
            "\n",
            "\n",
            "Epoch [18/70] Started\n",
            "Epoch [18/70] Finished, Train Loss: 0.0265, Val Loss: 0.0108\n",
            "\n",
            "\n",
            "Epoch [19/70] Started\n",
            "Epoch [19/70] Finished, Train Loss: 0.0266, Val Loss: 0.0111\n",
            "\n",
            "\n",
            "Epoch [20/70] Started\n",
            "Epoch [20/70] Finished, Train Loss: 0.0263, Val Loss: 0.0103\n",
            "\n",
            "\n",
            "Epoch [21/70] Started\n",
            "Epoch [21/70] Finished, Train Loss: 0.0263, Val Loss: 0.0100\n",
            "\n",
            "\n",
            "Epoch [22/70] Started\n",
            "Epoch [22/70] Finished, Train Loss: 0.0259, Val Loss: 0.0098\n",
            "\n",
            "\n",
            "Epoch [23/70] Started\n",
            "Epoch [23/70] Finished, Train Loss: 0.0248, Val Loss: 0.0097\n",
            "\n",
            "\n",
            "Epoch [24/70] Started\n",
            "Epoch [24/70] Finished, Train Loss: 0.0245, Val Loss: 0.0092\n",
            "\n",
            "\n",
            "Epoch [25/70] Started\n",
            "Epoch [25/70] Finished, Train Loss: 0.0240, Val Loss: 0.0092\n",
            "\n",
            "\n",
            "Epoch [26/70] Started\n",
            "Epoch [26/70] Finished, Train Loss: 0.0239, Val Loss: 0.0096\n",
            "\n",
            "\n",
            "Epoch [27/70] Started\n",
            "Epoch [27/70] Finished, Train Loss: 0.0237, Val Loss: 0.0092\n",
            "\n",
            "\n",
            "Epoch [28/70] Started\n",
            "Epoch [28/70] Finished, Train Loss: 0.0238, Val Loss: 0.0097\n",
            "\n",
            "\n",
            "Epoch [29/70] Started\n",
            "Epoch [29/70] Finished, Train Loss: 0.0237, Val Loss: 0.0095\n",
            "\n",
            "\n",
            "Epoch [30/70] Started\n",
            "Epoch [30/70] Finished, Train Loss: 0.0238, Val Loss: 0.0096\n",
            "\n",
            "\n",
            "Epoch [31/70] Started\n",
            "Epoch [31/70] Finished, Train Loss: 0.0237, Val Loss: 0.0095\n",
            "\n",
            "\n",
            "Epoch [32/70] Started\n",
            "Epoch [32/70] Finished, Train Loss: 0.0236, Val Loss: 0.0095\n",
            "\n",
            "\n",
            "Epoch [33/70] Started\n",
            "Epoch [33/70] Finished, Train Loss: 0.0243, Val Loss: 0.0098\n",
            "\n",
            "\n",
            "Epoch [34/70] Started\n",
            "Epoch [34/70] Finished, Train Loss: 0.0246, Val Loss: 0.0092\n",
            "\n",
            "\n",
            "Epoch [35/70] Started\n",
            "Epoch [35/70] Finished, Train Loss: 0.0250, Val Loss: 0.0096\n",
            "\n",
            "\n",
            "Epoch [36/70] Started\n",
            "Epoch [36/70] Finished, Train Loss: 0.0235, Val Loss: 0.0086\n",
            "\n",
            "\n",
            "Epoch [37/70] Started\n",
            "Epoch [37/70] Finished, Train Loss: 0.0206, Val Loss: 0.0074\n",
            "\n",
            "\n",
            "Epoch [38/70] Started\n",
            "Epoch [38/70] Finished, Train Loss: 0.0177, Val Loss: 0.0070\n",
            "\n",
            "\n",
            "Epoch [39/70] Started\n",
            "Epoch [39/70] Finished, Train Loss: 0.0142, Val Loss: 0.0062\n",
            "\n",
            "\n",
            "Epoch [40/70] Started\n",
            "Epoch [40/70] Finished, Train Loss: 0.0121, Val Loss: 0.0065\n",
            "\n",
            "\n",
            "Epoch [41/70] Started\n",
            "Epoch [41/70] Finished, Train Loss: 0.0107, Val Loss: 0.0055\n",
            "\n",
            "\n",
            "Epoch [42/70] Started\n",
            "Epoch [42/70] Finished, Train Loss: 0.0099, Val Loss: 0.0051\n",
            "\n",
            "\n",
            "Epoch [43/70] Started\n",
            "Epoch [43/70] Finished, Train Loss: 0.0079, Val Loss: 0.0054\n",
            "\n",
            "\n",
            "Epoch [44/70] Started\n",
            "Epoch [44/70] Finished, Train Loss: 0.0065, Val Loss: 0.0048\n",
            "\n",
            "\n",
            "Epoch [45/70] Started\n",
            "Epoch [45/70] Finished, Train Loss: 0.0058, Val Loss: 0.0043\n",
            "\n",
            "\n",
            "Epoch [46/70] Started\n",
            "Epoch [46/70] Finished, Train Loss: 0.0048, Val Loss: 0.0051\n",
            "\n",
            "\n",
            "Epoch [47/70] Started\n",
            "Epoch [47/70] Finished, Train Loss: 0.0042, Val Loss: 0.0063\n",
            "\n",
            "\n",
            "Epoch [48/70] Started\n",
            "Epoch [48/70] Finished, Train Loss: 0.0040, Val Loss: 0.0062\n",
            "\n",
            "\n",
            "Epoch [49/70] Started\n",
            "Epoch [49/70] Finished, Train Loss: 0.0035, Val Loss: 0.0061\n",
            "\n",
            "\n",
            "Epoch [50/70] Started\n",
            "Epoch [50/70] Finished, Train Loss: 0.0033, Val Loss: 0.0063\n",
            "\n",
            "\n",
            "Epoch [51/70] Started\n",
            "Epoch [51/70] Finished, Train Loss: 0.0032, Val Loss: 0.0069\n",
            "\n",
            "\n",
            "Epoch [52/70] Started\n",
            "Epoch [52/70] Finished, Train Loss: 0.0031, Val Loss: 0.0068\n",
            "\n",
            "\n",
            "Epoch [53/70] Started\n",
            "Epoch [53/70] Finished, Train Loss: 0.0030, Val Loss: 0.0074\n",
            "\n",
            "\n",
            "Epoch [54/70] Started\n",
            "Epoch [54/70] Finished, Train Loss: 0.0031, Val Loss: 0.0075\n",
            "\n",
            "\n",
            "Epoch [55/70] Started\n",
            "Epoch [55/70] Finished, Train Loss: 0.0030, Val Loss: 0.0083\n",
            "\n",
            "\n",
            "Epoch [56/70] Started\n",
            "Epoch [56/70] Finished, Train Loss: 0.0027, Val Loss: 0.0066\n",
            "\n",
            "\n",
            "Epoch [57/70] Started\n",
            "Epoch [57/70] Finished, Train Loss: 0.0026, Val Loss: 0.0066\n",
            "\n",
            "\n",
            "Epoch [58/70] Started\n",
            "Epoch [58/70] Finished, Train Loss: 0.0025, Val Loss: 0.0068\n",
            "\n",
            "\n",
            "Epoch [59/70] Started\n",
            "Epoch [59/70] Finished, Train Loss: 0.0024, Val Loss: 0.0078\n",
            "\n",
            "\n",
            "Epoch [60/70] Started\n",
            "Epoch [60/70] Finished, Train Loss: 0.0023, Val Loss: 0.0089\n",
            "\n",
            "\n",
            "Epoch [61/70] Started\n",
            "Epoch [61/70] Finished, Train Loss: 0.0023, Val Loss: 0.0086\n",
            "\n",
            "\n",
            "Epoch [62/70] Started\n",
            "Epoch [62/70] Finished, Train Loss: 0.0023, Val Loss: 0.0098\n",
            "\n",
            "\n",
            "Epoch [63/70] Started\n",
            "Epoch [63/70] Finished, Train Loss: 0.0022, Val Loss: 0.0101\n",
            "\n",
            "\n",
            "Epoch [64/70] Started\n",
            "Epoch [64/70] Finished, Train Loss: 0.0023, Val Loss: 0.0095\n",
            "\n",
            "\n",
            "Epoch [65/70] Started\n",
            "Epoch [65/70] Finished, Train Loss: 0.0023, Val Loss: 0.0103\n",
            "\n",
            "\n",
            "Epoch [66/70] Started\n",
            "Epoch [66/70] Finished, Train Loss: 0.0023, Val Loss: 0.0104\n",
            "\n",
            "\n",
            "Epoch [67/70] Started\n",
            "Epoch [67/70] Finished, Train Loss: 0.0024, Val Loss: 0.0091\n",
            "\n",
            "\n",
            "Epoch [68/70] Started\n",
            "Epoch [68/70] Finished, Train Loss: 0.0023, Val Loss: 0.0089\n",
            "\n",
            "\n",
            "Epoch [69/70] Started\n",
            "Epoch [69/70] Finished, Train Loss: 0.0022, Val Loss: 0.0085\n",
            "\n",
            "\n",
            "Epoch [70/70] Started\n",
            "Epoch [70/70] Finished, Train Loss: 0.0021, Val Loss: 0.0102\n",
            "\n",
            "\n"
          ]
        }
      ],
      "source": [
        "# Train the model\n",
        "epoch_train_losses, epoch_val_losses = train_model(train_dataloader, val_dataloader, model, criterion, lr=0.001, n_epochs=70, device=device)"
      ]
    },
    {
      "cell_type": "code",
      "execution_count": 49,
      "metadata": {
        "id": "fPGf5iSwpiml",
        "colab": {
          "base_uri": "https://localhost:8080/",
          "height": 472
        },
        "outputId": "6596ab4a-41aa-4e3e-8786-6008183aafd7"
      },
      "outputs": [
        {
          "output_type": "display_data",
          "data": {
            "text/plain": [
              "<Figure size 640x480 with 1 Axes>"
            ],
            "image/png": "[encoded data removed]"
          },
          "metadata": {}
        }
      ],
      "source": [
        "# Plot training and validation losses\n",
        "plt.plot(epoch_train_losses, label='Training Loss')\n",
        "plt.plot(epoch_val_losses, label='Validation Loss')\n",
        "plt.xlabel('Epoch')\n",
        "plt.ylabel('Loss')\n",
        "plt.legend()\n",
        "plt.title('Training and Validation Loss over Epochs')\n",
        "plt.show()"
      ]
    },
    {
      "cell_type": "code",
      "execution_count": 50,
      "metadata": {
        "id": "PKqHhMjTpi2F",
        "colab": {
          "base_uri": "https://localhost:8080/"
        },
        "outputId": "c66c0787-9498-4831-f55d-4a436059d420"
      },
      "outputs": [
        {
          "output_type": "stream",
          "name": "stdout",
          "text": [
            "Test Loss: 0.0028\n"
          ]
        }
      ],
      "source": [
        "# Evaluate on test data\n",
        "test_loss = evaluate_model(test_dataloader, model, criterion, device)"
      ]
    },
    {
      "cell_type": "markdown",
      "metadata": {
        "id": "R_HkjU3YpPxR"
      },
      "source": [
        "## **Save the model**"
      ]
    },
    {
      "cell_type": "code",
      "execution_count": 51,
      "metadata": {
        "id": "jTKqVVC9pPIp"
      },
      "outputs": [],
      "source": [
        "# Save the trained model\n",
        "torch.save(model.state_dict(), f\"/content/drive/MyDrive/unet_lung_segmentation_{test_loss}.pth\")"
      ]
    },
    {
      "cell_type": "markdown",
      "metadata": {
        "id": "s0vKT2p3qRYS"
      },
      "source": [
        "## **Inference**"
      ]
    },
    {
      "cell_type": "code",
      "execution_count": 52,
      "metadata": {
        "id": "8ezLTPYfrWdL",
        "colab": {
          "base_uri": "https://localhost:8080/"
        },
        "outputId": "1751bcf6-8f2b-46b6-e19e-745762143048"
      },
      "outputs": [
        {
          "output_type": "stream",
          "name": "stdout",
          "text": [
            "('/content/drive/MyDrive/LungTumorDetectionAndSegmentation/train/images/Subject_13/154.png', tensor([[[0., 0., 0.,  ..., 0., 0., 0.],\n",
            "         [0., 0., 0.,  ..., 0., 0., 0.],\n",
            "         [0., 0., 0.,  ..., 0., 0., 0.],\n",
            "         ...,\n",
            "         [0., 0., 0.,  ..., 0., 0., 0.],\n",
            "         [0., 0., 0.,  ..., 0., 0., 0.],\n",
            "         [0., 0., 0.,  ..., 0., 0., 0.]]]), tensor([[[0., 0., 0.,  ..., 0., 0., 0.],\n",
            "         [0., 0., 0.,  ..., 0., 0., 0.],\n",
            "         [0., 0., 0.,  ..., 0., 0., 0.],\n",
            "         ...,\n",
            "         [0., 0., 0.,  ..., 0., 0., 0.],\n",
            "         [0., 0., 0.,  ..., 0., 0., 0.],\n",
            "         [0., 0., 0.,  ..., 0., 0., 0.]]]))\n"
          ]
        }
      ],
      "source": [
        "# Get test images names\n",
        "print(test_dataset[5])"
      ]
    },
    {
      "cell_type": "code",
      "execution_count": 53,
      "metadata": {
        "id": "aeI63hqsqTO2",
        "colab": {
          "base_uri": "https://localhost:8080/"
        },
        "outputId": "32421dbe-711b-451c-a4b0-20e4628f0ecd"
      },
      "outputs": [
        {
          "output_type": "execute_result",
          "data": {
            "text/plain": [
              "UNet(\n",
              "  (max_pool2d): MaxPool2d(kernel_size=2, stride=2, padding=0, dilation=1, ceil_mode=False)\n",
              "  (down_convolution_1): Sequential(\n",
              "    (0): Conv2d(1, 64, kernel_size=(3, 3), stride=(1, 1), padding=(1, 1))\n",
              "    (1): ReLU(inplace=True)\n",
              "    (2): Conv2d(64, 64, kernel_size=(3, 3), stride=(1, 1), padding=(1, 1))\n",
              "    (3): ReLU(inplace=True)\n",
              "  )\n",
              "  (down_convolution_2): Sequential(\n",
              "    (0): Conv2d(64, 128, kernel_size=(3, 3), stride=(1, 1), padding=(1, 1))\n",
              "    (1): ReLU(inplace=True)\n",
              "    (2): Conv2d(128, 128, kernel_size=(3, 3), stride=(1, 1), padding=(1, 1))\n",
              "    (3): ReLU(inplace=True)\n",
              "  )\n",
              "  (down_convolution_3): Sequential(\n",
              "    (0): Conv2d(128, 256, kernel_size=(3, 3), stride=(1, 1), padding=(1, 1))\n",
              "    (1): ReLU(inplace=True)\n",
              "    (2): Conv2d(256, 256, kernel_size=(3, 3), stride=(1, 1), padding=(1, 1))\n",
              "    (3): ReLU(inplace=True)\n",
              "  )\n",
              "  (down_convolution_4): Sequential(\n",
              "    (0): Conv2d(256, 512, kernel_size=(3, 3), stride=(1, 1), padding=(1, 1))\n",
              "    (1): ReLU(inplace=True)\n",
              "    (2): Conv2d(512, 512, kernel_size=(3, 3), stride=(1, 1), padding=(1, 1))\n",
              "    (3): ReLU(inplace=True)\n",
              "  )\n",
              "  (down_convolution_5): Sequential(\n",
              "    (0): Conv2d(512, 1024, kernel_size=(3, 3), stride=(1, 1), padding=(1, 1))\n",
              "    (1): ReLU(inplace=True)\n",
              "    (2): Conv2d(1024, 1024, kernel_size=(3, 3), stride=(1, 1), padding=(1, 1))\n",
              "    (3): ReLU(inplace=True)\n",
              "  )\n",
              "  (up_transpose_1): ConvTranspose2d(1024, 512, kernel_size=(2, 2), stride=(2, 2))\n",
              "  (up_convolution_1): Sequential(\n",
              "    (0): Conv2d(1024, 512, kernel_size=(3, 3), stride=(1, 1), padding=(1, 1))\n",
              "    (1): ReLU(inplace=True)\n",
              "    (2): Conv2d(512, 512, kernel_size=(3, 3), stride=(1, 1), padding=(1, 1))\n",
              "    (3): ReLU(inplace=True)\n",
              "  )\n",
              "  (up_transpose_2): ConvTranspose2d(512, 256, kernel_size=(2, 2), stride=(2, 2))\n",
              "  (up_convolution_2): Sequential(\n",
              "    (0): Conv2d(512, 256, kernel_size=(3, 3), stride=(1, 1), padding=(1, 1))\n",
              "    (1): ReLU(inplace=True)\n",
              "    (2): Conv2d(256, 256, kernel_size=(3, 3), stride=(1, 1), padding=(1, 1))\n",
              "    (3): ReLU(inplace=True)\n",
              "  )\n",
              "  (up_transpose_3): ConvTranspose2d(256, 128, kernel_size=(2, 2), stride=(2, 2))\n",
              "  (up_convolution_3): Sequential(\n",
              "    (0): Conv2d(256, 128, kernel_size=(3, 3), stride=(1, 1), padding=(1, 1))\n",
              "    (1): ReLU(inplace=True)\n",
              "    (2): Conv2d(128, 128, kernel_size=(3, 3), stride=(1, 1), padding=(1, 1))\n",
              "    (3): ReLU(inplace=True)\n",
              "  )\n",
              "  (up_transpose_4): ConvTranspose2d(128, 64, kernel_size=(2, 2), stride=(2, 2))\n",
              "  (up_convolution_4): Sequential(\n",
              "    (0): Conv2d(128, 64, kernel_size=(3, 3), stride=(1, 1), padding=(1, 1))\n",
              "    (1): ReLU(inplace=True)\n",
              "    (2): Conv2d(64, 64, kernel_size=(3, 3), stride=(1, 1), padding=(1, 1))\n",
              "    (3): ReLU(inplace=True)\n",
              "  )\n",
              "  (out): Conv2d(64, 1, kernel_size=(1, 1), stride=(1, 1))\n",
              ")"
            ]
          },
          "metadata": {},
          "execution_count": 53
        }
      ],
      "source": [
        "# Reinitialize the model\n",
        "model = UNet(num_classes=1)  # For binary segmentation\n",
        "model.load_state_dict(torch.load(f\"/content/drive/MyDrive/unet_lung_segmentation_{test_loss}.pth\", map_location=device))\n",
        "model.to(device)\n",
        "model.eval()"
      ]
    },
    {
      "cell_type": "code",
      "execution_count": 56,
      "metadata": {
        "id": "EC3DqxMSqqzg",
        "colab": {
          "base_uri": "https://localhost:8080/",
          "height": 384
        },
        "outputId": "b0bb4561-b138-48ab-a97a-4445976d690a"
      },
      "outputs": [
        {
          "output_type": "stream",
          "name": "stdout",
          "text": [
            "Before Sigmoid Output stats: -36.24768829345703 8.387129783630371\n",
            "After Sigmoid Output stats: 1.810627157171449e-16 0.9997722506523132\n",
            "tensor([[[[0., 0., 0.,  ..., 0., 0., 0.],\n",
            "          [0., 0., 0.,  ..., 0., 0., 0.],\n",
            "          [0., 0., 0.,  ..., 0., 0., 0.],\n",
            "          ...,\n",
            "          [0., 0., 0.,  ..., 0., 0., 0.],\n",
            "          [0., 0., 0.,  ..., 0., 0., 0.],\n",
            "          [0., 0., 0.,  ..., 0., 0., 0.]]]], device='cuda:0')\n"
          ]
        },
        {
          "output_type": "display_data",
          "data": {
            "text/plain": [
              "<Figure size 640x480 with 3 Axes>"
            ],
            "image/png": "[encoded data removed]"
          },
          "metadata": {}
        }
      ],
      "source": [
        "# Load the image and preprocess\n",
        "image_path = \"/content/drive/MyDrive/LungTumorDetectionAndSegmentation/train/images/Subject_45/117.png\"\n",
        "true_mask_path = \"/content/drive/MyDrive/LungTumorDetectionAndSegmentation/train/masks/Subject_45/117.png\"\n",
        "\n",
        "\n",
        "image = Image.open(image_path).convert(\"L\")  # Convert to grayscale\n",
        "true_mask = Image.open(true_mask_path).convert(\"L\")  # Convert to grayscale\n",
        "\n",
        "\n",
        "# Define transform (same as training)\n",
        "transform = T.Compose([\n",
        "                        T.Resize((256, 256)),  # adjust to match training input size\n",
        "                        T.ToTensor()\n",
        "                     ])\n",
        "\n",
        "\n",
        "# Transform and add batch dimension\n",
        "input_tensor = transform(image).unsqueeze(0).to(device)         # Shape: [1, 1, H, W]\n",
        "\n",
        "# Forward pass\n",
        "with torch.no_grad():\n",
        "    output = model(input_tensor)\n",
        "    print(\"Before Sigmoid Output stats:\", output.min().item(), output.max().item())\n",
        "    output = torch.sigmoid(output)      # Convert logits to probabilities\n",
        "    print(\"After Sigmoid Output stats:\", output.min().item(), output.max().item())\n",
        "    pred_mask = (output > 0.5).float()  # Threshold for binary mask\n",
        "    print(pred_mask)\n",
        "\n",
        "\n",
        "# Visualize\n",
        "plt.subplot(1, 3, 1)\n",
        "plt.title(\"Input Image\")\n",
        "plt.imshow(image, cmap='gray')\n",
        "\n",
        "plt.subplot(1, 3, 2)\n",
        "plt.title(\"True Mask\")\n",
        "plt.imshow(true_mask, cmap='gray')\n",
        "\n",
        "plt.subplot(1, 3, 3)\n",
        "plt.title(\"Predicted Mask\")\n",
        "plt.imshow(pred_mask.squeeze().cpu(), cmap='gray')\n",
        "\n",
        "plt.show()"
      ]
    },
    {
      "cell_type": "code",
      "execution_count": 54,
      "metadata": {
        "id": "7mJYECLN9Jjw"
      },
      "outputs": [],
      "source": []
    }
  ],
  "metadata": {
    "accelerator": "GPU",
    "colab": {
      "gpuType": "T4",
      "provenance": []
    },
    "kernelspec": {
      "display_name": "Python 3",
      "name": "python3"
    },
    "language_info": {
      "name": "python"
    }
  },
  "nbformat": 4,
  "nbformat_minor": 0
}
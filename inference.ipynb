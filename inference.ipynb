{
  "nbformat": 4,
  "nbformat_minor": 0,
  "metadata": {
    "colab": {
      "provenance": [],
      "authorship_tag": "ABX9TyOsQT0x27g79kbZsIUT2d7d",
      "include_colab_link": true
    },
    "kernelspec": {
      "name": "python3",
      "display_name": "Python 3"
    },
    "language_info": {
      "name": "python"
    }
  },
  "cells": [
    {
      "cell_type": "markdown",
      "metadata": {
        "id": "view-in-github",
        "colab_type": "text"
      },
      "source": [
        "<a href=\"https://colab.research.google.com/github/SaraElwatany/Lung-TumorDetection-Segmentation/blob/main/inference.ipynb\" target=\"_parent\"><img src=\"https://colab.research.google.com/assets/colab-badge.svg\" alt=\"Open In Colab\"/></a>"
      ]
    },
    {
      "cell_type": "markdown",
      "source": [
        "## **Imports**"
      ],
      "metadata": {
        "id": "L3nwzC9ycwgd"
      }
    },
    {
      "cell_type": "code",
      "execution_count": null,
      "metadata": {
        "id": "EdySwJH6cpiK"
      },
      "outputs": [],
      "source": [
        "import os\n",
        "import torch\n",
        "import torch.nn as nn\n",
        "from PIL import Image\n",
        "from google.colab import drive\n",
        "import matplotlib.pyplot as plt\n",
        "import torchvision.transforms as T\n",
        "from sklearn.model_selection import train_test_split\n",
        "from torch.utils.data import Dataset, DataLoader, random_split"
      ]
    },
    {
      "cell_type": "markdown",
      "source": [
        "## **Tumor Segmentation on Whole Image**"
      ],
      "metadata": {
        "id": "k_1AgXTVcy1t"
      }
    },
    {
      "cell_type": "code",
      "source": [
        "def segment_tumor_whole_img(image_path, true_mask_path, model):\n",
        "\n",
        "  '''\n",
        "  Args:\n",
        "\n",
        "  Returns:\n",
        "    None\n",
        "  '''\n",
        "\n",
        "\n",
        "  image = Image.open(image_path).convert(\"L\")              # Convert to grayscale\n",
        "  true_mask = Image.open(true_mask_path).convert(\"L\")      # Convert to grayscale\n",
        "\n",
        "\n",
        "  # Define transform (same as training)\n",
        "  transform = T.Compose([\n",
        "                          T.Resize((256, 256)),  # adjust to match training input size\n",
        "                          T.ToTensor()\n",
        "                      ])\n",
        "\n",
        "\n",
        "  # Transform and add batch dimension\n",
        "  input_tensor = transform(image).unsqueeze(0).to(device)         # Shape: [1, 1, H, W]\n",
        "\n",
        "  # Forward pass\n",
        "  with torch.no_grad():\n",
        "      output = model(input_tensor)\n",
        "      output = torch.sigmoid(output)      # Convert logits to probabilities\n",
        "      pred_mask = (output > 0.5).float()  # Threshold for binary mask\n",
        "\n",
        "\n",
        "  # Visualize\n",
        "  plt.subplot(1, 3, 1)\n",
        "  plt.title(\"Input Image\")\n",
        "  plt.imshow(image, cmap='gray')\n",
        "\n",
        "  plt.subplot(1, 3, 2)\n",
        "  plt.title(\"True Mask\")\n",
        "  plt.imshow(true_mask, cmap='gray')\n",
        "\n",
        "  plt.subplot(1, 3, 3)\n",
        "  plt.title(\"Predicted Mask\")\n",
        "  plt.imshow(pred_mask.squeeze().cpu(), cmap='gray')\n",
        "\n",
        "  plt.show()"
      ],
      "metadata": {
        "id": "Hnoqzezzc4LX"
      },
      "execution_count": null,
      "outputs": []
    },
    {
      "cell_type": "markdown",
      "source": [
        "## **Tumor Detection**"
      ],
      "metadata": {
        "id": "vcyM1akHdWt8"
      }
    },
    {
      "cell_type": "code",
      "source": [],
      "metadata": {
        "id": "TwQaHloqdaGz"
      },
      "execution_count": null,
      "outputs": []
    },
    {
      "cell_type": "markdown",
      "source": [
        "## **Segmentation of detected tumors**"
      ],
      "metadata": {
        "id": "dEmha2z7daf_"
      }
    },
    {
      "cell_type": "code",
      "source": [],
      "metadata": {
        "id": "DcmYC_vZdf69"
      },
      "execution_count": null,
      "outputs": []
    }
  ]
}